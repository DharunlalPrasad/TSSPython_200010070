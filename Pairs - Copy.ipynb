{
 "cells": [
  {
   "cell_type": "markdown",
   "metadata": {
    "id": "dBmd8kyLfMIg"
   },
   "source": [
    "## Paired Switching\n",
    "\n",
    "The idea behind this strategy is that if the assets are negatively correlated, then a traditional mixed portfolio might lead to a lower return than the return for the individual assets.\n",
    "\n",
    "We periodically compute the Co-relation Coefficients' Matrix and choose pair of stocks which have the most negative co-relations and trade in them. The basic idea being that if one of them would fall, then the other would rise and hence, we must switch between them!\n",
    "\n",
    "We need a re-balancing period ,i.e. The time after which we would be again calculating the co-relations and taking a different pair of stocks : **T**\n",
    "\n",
    "We would also need to keep switching between these selected stocks in a pair at a certain interval of time : **P**\n",
    "\n",
    "Next, We need to specify how many such pairs would we be trading in : **M**\n",
    "\n",
    "The Fraction of the total balance we would be investing on every turn : **R**\n",
    "\n",
    "The Brokerage Fee as a fraction of the total transaction amount : **F**\n",
    "\n"
   ]
  },
  {
   "cell_type": "code",
   "execution_count": 29,
   "metadata": {
    "id": "KhmpNcaUextd"
   },
   "outputs": [],
   "source": [
    "import numpy as np\n",
    "import pandas as pd\n",
    "import datetime\n",
    "import matplotlib.pyplot as plt\n",
    "import seaborn as sns\n",
    "\n",
    "T = 60\n",
    "P = 7\n",
    "M = 4\n",
    "R = 0.8\n",
    "F = 0.0005\n",
    "N=50"
   ]
  },
  {
   "cell_type": "markdown",
   "metadata": {
    "id": "6zepnFA0xjvI"
   },
   "source": [
    "### Few Upcoming Functions(GetData and PartitionData) would be similar to the ones you encountered in the Momentum Assignment (Feel free to Copy-Paste your code from there!)"
   ]
  },
  {
   "cell_type": "markdown",
   "metadata": {
    "id": "YZQH1NuRyGLy"
   },
   "source": [
    "In the file DATA.csv , which we had uploaded in our repository, we have prices of 30 firms enlisted in S & P 500 Index (Apple, IBM, Cisco, Walmart and the like!) from 2nd January 2009 to 17th August 2020.\n",
    "\n",
    "For our purposes, We'll only be requiring certain columns. On an honest note, Just getting the Columns on Ticker, Date and Adjusted Closing Price would do the job, but if you want, you may take Opening Price as well.\n",
    "\n",
    "Read up about the [pandas.read_csv](https://pandas.pydata.org/docs/reference/api/pandas.read_csv.html) function from here, and figure out how you'll use it to do the job (You don't need all the columns!) "
   ]
  },
  {
   "cell_type": "code",
   "execution_count": 19,
   "metadata": {
    "id": "Ka_L9Ne6yOGY"
   },
   "outputs": [],
   "source": [
    "def GetData(NameOfFile):\n",
    "  #START CODE HERE\n",
    "    a=pd.read_csv(NameOfFile)\n",
    "    b=a[['datadate','tic','adjcp']]\n",
    "\n",
    "\n",
    "\n",
    "    return b  # pd.DataFrame Object"
   ]
  },
  {
   "cell_type": "markdown",
   "metadata": {
    "id": "xJILaZUYySQW"
   },
   "source": [
    "To aid Data-Manipulation, it would be beneficial, if we split the DataFrame into many small parts each corresponding to the data corresponding to the 30 Tickers on a particular date. These small parts could then be stored in a list.\n",
    "\n",
    "We would also be needing to remember which date is at what index, so that we can use that later. "
   ]
  },
  {
   "cell_type": "code",
   "execution_count": 20,
   "metadata": {
    "id": "I0jUbPe_yiGU"
   },
   "outputs": [],
   "source": [
    "def PartitionData(Data):\n",
    "  \n",
    "    DateToIndex = {}\n",
    "    \n",
    "    list=[]\n",
    "    list1=Data.datadate.unique()\n",
    "    n=0\n",
    "    for i in list1:\n",
    "        list.append(Data[Data.datadate== i])\n",
    "        DateToIndex[i]=n\n",
    "        n=n+1\n",
    "\n",
    "\n",
    "\n",
    "\n",
    "\n",
    "    return list, DateToIndex    # List containing of the Data Partitioned according to Date, and the Dictionary mapping Dates to their index in the list "
   ]
  },
  {
   "cell_type": "markdown",
   "metadata": {
    "id": "abBu6bdrqpcD"
   },
   "source": [
    "Now, We need a function which takes as input a pair of stocks (as indices in range 0-29), Today's date,  alongwith the Partitioned DataFrames which will tell us which of the two stocks has a better outlook for the future, and we'll simply move all our Money from one of them to the other. \n",
    "\n",
    "This will be done once in every **P** trading sessions.\n",
    "\n",
    "You could choose between the two stocks in a number of ways, the simplest of which can be what you did in the last assignment, the Momentum Indicator (i.e. Take the difference between the prices of the stocks in a certain number of days and do your deed! Remember this number of days **N** must be <= **T**)\n",
    "\n",
    "You may also use other indicators like [RSI](https://www.investopedia.com/terms/r/rsi.asp), [Stochs](https://www.investopedia.com/terms/s/stochasticoscillator.asp), [MACD](https://www.investopedia.com/terms/m/macd.asp) or anything else! (If you decide to use MACD or RSI, you could either implement other functions to calculate them or simply change your ParitionData() function to get the MACD and RSI values as they are already stored there for you!)\n",
    "\n",
    "You need not worry about getting the nearest dates (or dates at all) in this case, because all you care about is co-relations in long term and growth in short-term so it doesn't matter if you're ahead or behind a few days!\n",
    "\n",
    "'today' would be an index(integer), i.e. an index on the PartitionedDataFrames list denoting where we are at currently!\n",
    "\n",
    "Also, as you may have figured it out yourself, while DataFrames are great for Data Handling and small statistical calculations, They aren't so for big calculations as the Numpy Library has both a richer variety of functions for such manipulations and is also more efficient!\n"
   ]
  },
  {
   "cell_type": "code",
   "execution_count": 36,
   "metadata": {
    "id": "hUViRxVXwrB5"
   },
   "outputs": [],
   "source": [
    "def Switch(firstStock, SecondStock, today ,PartitionedDataFrames):\n",
    "\n",
    "  \n",
    "    \n",
    "    \n",
    "    \n",
    "    cptoday=np.array(PartitionedDataFrames[today].adjcp)\n",
    "    cpndayago=np.array(PartitionedDataFrames[today-N].adjcp)\n",
    "    \n",
    "    momentum = cptoday-cpndayago    \n",
    "    \n",
    "    lcp=[]\n",
    "    i=today-N\n",
    "    while i<=today:\n",
    "        lcp.append(np.array(PartitionedDataFrames[i].adjcp))\n",
    "        i+=1\n",
    "    lcp=np.array(lcp)\n",
    "    meancp = np.mean(lcp,axis=0)\n",
    "    \n",
    "    parameter=momentum/meancp\n",
    "    \n",
    "    if parameter[firstStock]>parameter[SecondStock]:\n",
    "        index=firstStock\n",
    "    else:\n",
    "        index=SecondStock\n",
    "    \n",
    "\n",
    "\n",
    "\n",
    "\n",
    "    return index     #One of two(firstStock/SecondStock) depending on which should grow more in the future."
   ]
  },
  {
   "cell_type": "markdown",
   "metadata": {
    "id": "CBZqJ_CszZbL"
   },
   "source": [
    "Now, We need something to simulate our [Portfolio](https://www.investopedia.com/terms/p/portfolio.asp). In order to do that we need a class, which has certain  basic features and functionalities.\n",
    "\n",
    "(Again some of the functions here, would be same as the previous assignment, so feel free to Copy-Paste)\n",
    "\n",
    "Features : \n",
    "\n",
    "\n",
    "1.   Your Initial Balance\n",
    "2.   Your Current Balance (Money which isn't invested!)\n",
    "3.   A list(/any other container) storing the number of stocks of each ticker currently in possession. (Numpy Array prefered)\n",
    "4.   Most recent prices of all the stocks (As a Numpy array)\n",
    "5.   A list of **M** or less(as it might be that less than **M** stocks are negatively co-related) Tuples of indices (i,j) where i and j are the indices (from 0-29) of stocks which are negatively co-related.\n",
    "\n",
    "Functionalities: \n",
    "\n",
    "\n",
    "\n",
    "1.   Calculating current Net Worth (Balance+Total Evaluation of all Stocks owned!) \n",
    "2.   Buying a Particular Stock (Keep the Transaction fee in mind!)\n",
    "3.   Selling a particular Stock whole (Keep the Transaction Fee in mind!)\n",
    "4.   Change Pairs (**T** period intervals) (Takes PartitionedDataFrame, DateT and today's date as input)\n",
    "5.   Rebalance Portfolio (**P** period intervals) (Takes O)\n",
    "6.   Function to change the value of most recent prices stored (Takes Numpy array as input)\n",
    "\n",
    "\n",
    "You may want to know about Numpy's Corrcoef ([np.corrcoef](https://numpy.org/doc/stable/reference/generated/numpy.corrcoef.html)) function!\n"
   ]
  },
  {
   "cell_type": "code",
   "execution_count": 70,
   "metadata": {
    "id": "SFJOHvgS1aq0"
   },
   "outputs": [],
   "source": [
    "class PortFolio:\n",
    "    def __init__(self,initialbal,slist,prices,plist): \n",
    "        #Initialize all variables\n",
    "        self.initbal=initialbal\n",
    "        self.currbal=initialbal\n",
    "        self.stocklist=slist\n",
    "        self.recentprices=prices\n",
    "        self.pairlist=plist\n",
    "        \n",
    "\n",
    "    def SellStock(self, index):\n",
    "        #index : The index of the Stock to sell (0-29)\n",
    "        self.currbal=self.currbal+ (self.stocklist[index]*self.recentprices[index])*(1-F)\n",
    "        self.stocklist[index]=0\n",
    "        \n",
    "  \n",
    "    def BuyStock(self,index, number):\n",
    "        #index : The index of the Stock to buy (0-29)\n",
    "        #number : Number of shares to buy (float)\n",
    "        self.currbal=self.currbal-(number*self.recentprices[index])*(1+F)\n",
    "        self.stocklist[index]+=number\n",
    "        \n",
    "    \n",
    "    def CalculateNetWorth(self):\n",
    "    #Return Net Worth (All Shares' costs+ Balance)\n",
    "        return self.currbal + np.sum(self.recentprices*np.array(self.stocklist))\n",
    "\n",
    "\n",
    "\n",
    "    def ChangePricesTo(self,newPriceVector):\n",
    "    # newPriceVector : Numpy array containing the prices of all the stocks for the current day\n",
    "        self.recentprices = newPriceVector\n",
    "\n",
    "    def ChangePairs(self,today,PartitionedDataFrames):  \n",
    "    # Calls the Switch function for all the pairs of stocks owned\n",
    "        list1=[]\n",
    "        for j in self.pairlist:\n",
    "            list1.append(Switch(j[0],j[1], today ,PartitionedDataFrames))\n",
    "        \n",
    "  \n",
    "    def RebalancePortfolio(self,today,PartitionedDataFrames):\n",
    "    # Calculates the Co-relation Matrix and changes the list of pairs, which you'll be using to trade\n",
    "    # You'll have to take care of cases, where a single stock would be involved in two or more of the most negatively co-related Stocks\n",
    "    # It would be a good idea, to call BuyStock and SellStock from here itself, instead of calling ChangePairs later as it will cause havoc that way\n",
    "        \n",
    "        pricearr=[]\n",
    "        for i in range(today-N,today+1):\n",
    "            pricearr.append(np.array(PartitionedDataFrames[i].adjcp))\n",
    "        pricearr=np.array(pricearr)\n",
    "        pricearr=pricearr.transpose()\n",
    "        cormatrix=np.corrcoef(pricearr)\n",
    "        print(cormatrix)\n",
    "        print(pricearr)\n",
    "        \n",
    "    \n",
    "\n",
    "\n",
    "\n"
   ]
  },
  {
   "cell_type": "markdown",
   "metadata": {
    "id": "S2Sv0OPB6QiL"
   },
   "source": [
    "With that the difficult part is over!\n",
    "\n",
    "Now, all you need to work on is a main loop, which calls all these functions"
   ]
  },
  {
   "cell_type": "code",
   "execution_count": 71,
   "metadata": {
    "id": "8qTWYyDn6mjt",
    "scrolled": true
   },
   "outputs": [
    {
     "name": "stdout",
     "output_type": "stream",
     "text": [
      "[1, 4, 5, 10]\n",
      "[[ 1.          0.52970686  0.8731185   0.4726736   0.7821628   0.61453669\n",
      "   0.64702705  0.7043092   0.85069889 -0.47695799  0.86835069  0.68196941\n",
      "   0.66547817  0.37817449  0.75485071  0.76608452  0.7344113   0.42166696\n",
      "   0.76154523  0.81878349  0.34318901  0.50703415  0.86455577  0.46923204\n",
      "   0.19546942  0.60086333 -0.5592036   0.52010978  0.06512656  0.7598811 ]\n",
      " [ 0.52970686  1.          0.62948053  0.82912277  0.73565973  0.55742031\n",
      "   0.74975964  0.76722063  0.66526447 -0.06840482  0.54529333  0.32181595\n",
      "   0.51336355  0.78053738  0.16398985  0.10505947  0.86901741  0.13837007\n",
      "   0.31710151  0.30454204  0.34328244  0.39010378  0.70183464 -0.07708379\n",
      "   0.42620578  0.80798415 -0.51906897  0.61324158  0.09465395  0.56901741]\n",
      " [ 0.8731185   0.62948053  1.          0.63055937  0.77183091  0.76744418\n",
      "   0.79306098  0.84765414  0.90811561 -0.52376241  0.85170109  0.53511011\n",
      "   0.81376962  0.4879298   0.77965261  0.68581447  0.86569735  0.48432906\n",
      "   0.73453642  0.61167625  0.53382374  0.59549454  0.97140302  0.40655306\n",
      "   0.39026367  0.70262078 -0.72542888  0.53669897  0.07765575  0.94393751]\n",
      " [ 0.4726736   0.82912277  0.63055937  1.          0.72467157  0.5847463\n",
      "   0.76078206  0.80953685  0.63769992  0.00791011  0.54452185  0.40246818\n",
      "   0.57942756  0.72053827  0.17495019  0.07927428  0.80633837  0.27274681\n",
      "   0.1229197   0.22665214  0.3561677   0.44621312  0.67915781 -0.07287307\n",
      "   0.55970457  0.85822177 -0.485941    0.64033896  0.3968285   0.62163704]\n",
      " [ 0.7821628   0.73565973  0.77183091  0.72467157  1.          0.73921071\n",
      "   0.61709356  0.66763539  0.68098773 -0.06986071  0.83357335  0.71263666\n",
      "   0.48616896  0.4032464   0.4256083   0.38581343  0.85424205  0.20508781\n",
      "   0.57442269  0.62108919  0.14234516  0.36316993  0.75866209  0.43400002\n",
      "   0.1013785   0.68974582 -0.38538846  0.73487907  0.26612483  0.73560529]\n",
      " [ 0.61453669  0.55742031  0.76744418  0.5847463   0.73921071  1.\n",
      "   0.46729317  0.62171206  0.57651439 -0.1285604   0.64469993  0.54219485\n",
      "   0.4753708   0.36287572  0.43809301  0.41057224  0.74783027  0.23842771\n",
      "   0.55509701  0.51456255  0.19698465  0.23615908  0.73552776  0.44444245\n",
      "   0.1549618   0.47386188 -0.32299656  0.54115744  0.22719466  0.84503076]\n",
      " [ 0.64702705  0.74975964  0.79306098  0.76078206  0.61709356  0.46729317\n",
      "   1.          0.91314874  0.8862523  -0.51664676  0.69574302  0.29618149\n",
      "   0.85615984  0.71599241  0.57621654  0.44767725  0.8211302   0.53861071\n",
      "   0.43126984  0.28731163  0.72205689  0.71377717  0.85300697 -0.01092273\n",
      "   0.65174693  0.87040601 -0.83316963  0.5558208   0.08318313  0.74519761]\n",
      " [ 0.7043092   0.76722063  0.84765414  0.80953685  0.66763539  0.62171206\n",
      "   0.91314874  1.          0.90650842 -0.47499934  0.70269258  0.39100276\n",
      "   0.87804205  0.76143097  0.57524495  0.47031664  0.85094142  0.56662976\n",
      "   0.45088349  0.35635817  0.67932155  0.6738423   0.89846855  0.01691888\n",
      "   0.68160267  0.85477031 -0.76360472  0.57882666  0.16592296  0.81282061]\n",
      " [ 0.85069889  0.66526447  0.90811561  0.63769992  0.68098773  0.57651439\n",
      "   0.8862523   0.90650842  1.         -0.64193313  0.82427971  0.48613378\n",
      "   0.88082071  0.66676355  0.77645281  0.64860577  0.82002886  0.56511737\n",
      "   0.6764857   0.50398097  0.67217154  0.67096802  0.94090481  0.23506942\n",
      "   0.51228473  0.77938701 -0.7812626   0.48921029  0.03339475  0.84605911]\n",
      " [-0.47695799 -0.06840482 -0.52376241  0.00791011 -0.06986071 -0.1285604\n",
      "  -0.51664676 -0.47499934 -0.64193313  1.         -0.4088371  -0.08484367\n",
      "  -0.65278859 -0.17674913 -0.75177612 -0.61997249 -0.25934687 -0.56187594\n",
      "  -0.60088559 -0.16403699 -0.67511194 -0.43483715 -0.52342102 -0.06177889\n",
      "  -0.32547992 -0.25633359  0.65637741  0.09302269  0.33526466 -0.46861006]\n",
      " [ 0.86835069  0.54529333  0.85170109  0.54452185  0.83357335  0.64469993\n",
      "   0.69574302  0.70269258  0.82427971 -0.4088371   1.          0.69955962\n",
      "   0.68274154  0.38472542  0.7050266   0.62531442  0.74623486  0.37111723\n",
      "   0.71645983  0.67877167  0.37629372  0.53295517  0.85320555  0.48770824\n",
      "   0.11734633  0.61123627 -0.5523267   0.63999799  0.09319814  0.79426595]\n",
      " [ 0.68196941  0.32181595  0.53511011  0.40246818  0.71263666  0.54219485\n",
      "   0.29618149  0.39100276  0.48613378 -0.08484367  0.69955962  1.\n",
      "   0.35977296  0.15622162  0.46547172  0.39254298  0.46953577  0.27527843\n",
      "   0.54917079  0.64238642  0.03115386  0.13440449  0.51335379  0.54324618\n",
      "  -0.11076455  0.33736162 -0.05846862  0.43663729  0.23568113  0.51825536]\n",
      " [ 0.66547817  0.51336355  0.81376962  0.57942756  0.48616896  0.4753708\n",
      "   0.85615984  0.87804205  0.88082071 -0.65278859  0.68274154  0.35977296\n",
      "   1.          0.57577534  0.75393407  0.55017687  0.71029633  0.68394875\n",
      "   0.56674172  0.26695484  0.86473207  0.71136042  0.85096678  0.11896729\n",
      "   0.65234545  0.66161822 -0.72151337  0.43395171  0.02967984  0.79434911]\n",
      " [ 0.37817449  0.78053738  0.4879298   0.72053827  0.4032464   0.36287572\n",
      "   0.71599241  0.76143097  0.66676355 -0.17674913  0.38472542  0.15622162\n",
      "   0.57577534  1.          0.21227707  0.16325867  0.64274818  0.37060648\n",
      "   0.07875597  0.17560081  0.5463865   0.55321128  0.60032078 -0.20055741\n",
      "   0.66891763  0.75956519 -0.5360536   0.44116982  0.18339341  0.47967315]\n",
      " [ 0.75485071  0.16398985  0.77965261  0.17495019  0.4256083   0.43809301\n",
      "   0.57621654  0.57524495  0.77645281 -0.75177612  0.7050266   0.46547172\n",
      "   0.75393407  0.21227707  1.          0.87945907  0.47593314  0.73257977\n",
      "   0.7420968   0.56783652  0.61976557  0.63038669  0.74058501  0.5541477\n",
      "   0.29291644  0.39238156 -0.60565251  0.19127635 -0.01661517  0.7655054 ]\n",
      " [ 0.76608452  0.10505947  0.68581447  0.07927428  0.38581343  0.41057224\n",
      "   0.44767725  0.47031664  0.64860577 -0.61997249  0.62531442  0.39254298\n",
      "   0.55017687  0.16325867  0.87945907  1.          0.36995769  0.63471595\n",
      "   0.59970272  0.74612692  0.39023686  0.63865709  0.65411452  0.55172298\n",
      "   0.22723725  0.34398409 -0.55584506  0.19128602  0.05439465  0.64819467]\n",
      " [ 0.7344113   0.86901741  0.86569735  0.80633837  0.85424205  0.74783027\n",
      "   0.8211302   0.85094142  0.82002886 -0.25934687  0.74623486  0.46953577\n",
      "   0.71029633  0.64274818  0.47593314  0.36995769  1.          0.2866724\n",
      "   0.60280048  0.44044205  0.47160524  0.49455658  0.9011841   0.18288555\n",
      "   0.41764388  0.77479125 -0.60671572  0.67661842  0.09176565  0.83229574]\n",
      " [ 0.42166696  0.13837007  0.48432906  0.27274681  0.20508781  0.23842771\n",
      "   0.53861071  0.56662976  0.56511737 -0.56187594  0.37111723  0.27527843\n",
      "   0.68394875  0.37060648  0.73257977  0.63471595  0.2866724   1.\n",
      "   0.24116025  0.26284966  0.7322573   0.66558301  0.4837246   0.2401194\n",
      "   0.64707291  0.47377894 -0.53013437  0.13187744  0.31672419  0.56264481]\n",
      " [ 0.76154523  0.31710151  0.73453642  0.1229197   0.57442269  0.55509701\n",
      "   0.43126984  0.45088349  0.6764857  -0.60088559  0.71645983  0.54917079\n",
      "   0.56674172  0.07875597  0.7420968   0.59970272  0.60280048  0.24116025\n",
      "   1.          0.51979278  0.36432314  0.2121934   0.70690001  0.50042135\n",
      "  -0.09554831  0.2210571  -0.39108336  0.27327467 -0.33487578  0.67443083]\n",
      " [ 0.81878349  0.30454204  0.61167625  0.22665214  0.62108919  0.51456255\n",
      "   0.28731163  0.35635817  0.50398097 -0.16403699  0.67877167  0.64238642\n",
      "   0.26695484  0.17560081  0.56783652  0.74612692  0.44044205  0.26284966\n",
      "   0.51979278  1.         -0.03004593  0.35275312  0.58506764  0.59362249\n",
      "  -0.07225348  0.33049876 -0.26678291  0.40588242  0.13995249  0.5100414 ]\n",
      " [ 0.34318901  0.34328244  0.53382374  0.3561677   0.14234516  0.19698465\n",
      "   0.72205689  0.67932155  0.67217154 -0.67511194  0.37629372  0.03115386\n",
      "   0.86473207  0.5463865   0.61976557  0.39023686  0.47160524  0.7322573\n",
      "   0.36432314 -0.03004593  1.          0.63585508  0.59997292 -0.07762291\n",
      "   0.71970147  0.49039493 -0.64095231  0.17372148 -0.05844478  0.5610781 ]\n",
      " [ 0.50703415  0.39010378  0.59549454  0.44621312  0.36316993  0.23615908\n",
      "   0.71377717  0.6738423   0.67096802 -0.43483715  0.53295517  0.13440449\n",
      "   0.71136042  0.55321128  0.63038669  0.63865709  0.49455658  0.66558301\n",
      "   0.2121934   0.35275312  0.63585508  1.          0.63441814  0.16411218\n",
      "   0.60513353  0.63344722 -0.67402501  0.35281475  0.17348718  0.58533821]\n",
      " [ 0.86455577  0.70183464  0.97140302  0.67915781  0.75866209  0.73552776\n",
      "   0.85300697  0.89846855  0.94090481 -0.52342102  0.85320555  0.51335379\n",
      "   0.85096678  0.60032078  0.74058501  0.65411452  0.9011841   0.4837246\n",
      "   0.70690001  0.58506764  0.59997292  0.63441814  1.          0.30131121\n",
      "   0.45548863  0.74314038 -0.74401393  0.58765407  0.04361878  0.91885672]\n",
      " [ 0.46923204 -0.07708379  0.40655306 -0.07287307  0.43400002  0.44444245\n",
      "  -0.01092273  0.01691888  0.23506942 -0.06177889  0.48770824  0.54324618\n",
      "   0.11896729 -0.20055741  0.5541477   0.55172298  0.18288555  0.2401194\n",
      "   0.50042135  0.59362249 -0.07762291  0.16411218  0.30131121  1.\n",
      "  -0.33657311  0.05221116  0.03499233  0.2300639   0.26708588  0.46873542]\n",
      " [ 0.19546942  0.42620578  0.39026367  0.55970457  0.1013785   0.1549618\n",
      "   0.65174693  0.68160267  0.51228473 -0.32547992  0.11734633 -0.11076455\n",
      "   0.65234545  0.66891763  0.29291644  0.22723725  0.41764388  0.64707291\n",
      "  -0.09554831 -0.07225348  0.71970147  0.60513353  0.45548863 -0.33657311\n",
      "   1.          0.62621804 -0.61175169  0.21223082  0.27548168  0.4290357 ]\n",
      " [ 0.60086333  0.80798415  0.70262078  0.85822177  0.68974582  0.47386188\n",
      "   0.87040601  0.85477031  0.77938701 -0.25633359  0.61123627  0.33736162\n",
      "   0.66161822  0.75956519  0.39238156  0.34398409  0.77479125  0.47377894\n",
      "   0.2210571   0.33049876  0.49039493  0.63344722  0.74314038  0.05221116\n",
      "   0.62621804  1.         -0.71424402  0.54989446  0.37606442  0.67022595]\n",
      " [-0.5592036  -0.51906897 -0.72542888 -0.485941   -0.38538846 -0.32299656\n",
      "  -0.83316963 -0.76360472 -0.7812626   0.65637741 -0.5523267  -0.05846862\n",
      "  -0.72151337 -0.5360536  -0.60565251 -0.55584506 -0.60671572 -0.53013437\n",
      "  -0.39108336 -0.26678291 -0.64095231 -0.67402501 -0.74401393  0.03499233\n",
      "  -0.61175169 -0.71424402  1.         -0.2607374   0.07101798 -0.64660927]\n",
      " [ 0.52010978  0.61324158  0.53669897  0.64033896  0.73487907  0.54115744\n",
      "   0.5558208   0.57882666  0.48921029  0.09302269  0.63999799  0.43663729\n",
      "   0.43395171  0.44116982  0.19127635  0.19128602  0.67661842  0.13187744\n",
      "   0.27327467  0.40588242  0.17372148  0.35281475  0.58765407  0.2300639\n",
      "   0.21223082  0.54989446 -0.2607374   1.          0.35944769  0.51649277]\n",
      " [ 0.06512656  0.09465395  0.07765575  0.3968285   0.26612483  0.22719466\n",
      "   0.08318313  0.16592296  0.03339475  0.33526466  0.09319814  0.23568113\n",
      "   0.02967984  0.18339341 -0.01661517  0.05439465  0.09176565  0.31672419\n",
      "  -0.33487578  0.13995249 -0.05844478  0.17348718  0.04361878  0.26708588\n",
      "   0.27548168  0.37606442  0.07101798  0.35944769  1.          0.18731342]\n",
      " [ 0.7598811   0.56901741  0.94393751  0.62163704  0.73560529  0.84503076\n",
      "   0.74519761  0.81282061  0.84605911 -0.46861006  0.79426595  0.51825536\n",
      "   0.79434911  0.47967315  0.7655054   0.64819467  0.83229574  0.56264481\n",
      "   0.67443083  0.5100414   0.5610781   0.58533821  0.91885672  0.46873542\n",
      "   0.4290357   0.67022595 -0.64660927  0.51649277  0.18731342  1.        ]]\n",
      "[[16.90142857 16.80571429 17.35       ... 19.62428571 19.14428571\n",
      "  19.46      ]\n",
      " [18.43       20.62       20.69       ... 23.23       23.39\n",
      "  22.93      ]\n",
      " [37.04       37.57       38.39       ... 46.9        43.87\n",
      "  41.32      ]\n",
      " ...\n",
      " [28.9        29.04       30.39       ... 29.64       29.65\n",
      "  30.        ]\n",
      " [51.12       51.29       50.78       ... 48.59       48.35\n",
      "  48.51      ]\n",
      " [67.7        68.14       67.41       ... 68.84       68.95\n",
      "  68.45      ]]\n"
     ]
    }
   ],
   "source": [
    "myPortfolio = PortFolio(15000,[ 0.        ,  0.        ,  5.0        ,  2.11482043,  0.        , 4.14834453,  0.        ,  0.        ,  0.        ,  0.        , 0.        ,  0.        ,  0.        ,  0.        ,  4.71780549, 0.        ,  0.        ,  0.        ,  0.        ,  0.        ,10.20799204,  0.        ,  0.        ,  0.        ,  0.        ,  0.        ,  3.69389992,  0.        ,  0.        ,  0.        ],[ 47.86571429,  46.28      ,  73.47      , 109.82      , 17.65      , 109.66      , 115.57155716,  41.76      , 160.96      ,  37.46      , 164.05      ,  20.02      ,  59.46      ,  46.84      ,  33.635     ,  76.04      ,  93.22      ,  33.67      ,  26.07      ,  19.3475    ,  20.46      ,  61.9       ,  84.81      ,  59.58      ,  44.38      ,  19.18      ,  37.72      ,  41.01      ,  52.54      ,  85.95      ],[(1,2),(3,4),(5,6),(10,12)])\n",
    "NetWorthAfterEachTrade = []\n",
    "\n",
    "\n",
    "#First Get the Data\n",
    "Data = GetData('DATA.csv')\n",
    "PartitionedData, DateToIndex= PartitionData(Data)\n",
    "\n",
    "#\n",
    "\n",
    "pcount,tcount=0,0\n",
    "#Start processing from the (T+1)th Day(among the ones recorded in the Data)\n",
    "for i in range(T,2925):\n",
    "  # Change the Prices to the ith Term\n",
    "  # Get NetWorth and store in list\n",
    "  # Check if you need to rebalance Portfolio's Today\n",
    "  # Check if you need to switch stocks today\n",
    "    newPriceVector=np.array((PartitionedData[i].adjcp))\n",
    "    myPortfolio.ChangePricesTo(newPriceVector)\n",
    "    NetWorthAfterEachTrade.append(myPortfolio.CalculateNetWorth())\n",
    "    \n",
    "    tcount+=1\n",
    "    pcount+=1\n",
    "    if tcount==T:\n",
    "        myPortfolio.RebalancePortfolio(i,PartitionedData)\n",
    "        \n",
    "    if pcount==P:\n",
    "        \n",
    "        myPortfolio.ChangePairs(i,PartitionedData)\n",
    "    \n",
    "\n"
   ]
  },
  {
   "cell_type": "markdown",
   "metadata": {
    "id": "kwewPN3O6yIF"
   },
   "source": [
    "You may need to declare the PartitionedData list global, depending on your implementation of the Above snippet as well as the various functions in the Portfolio class."
   ]
  },
  {
   "cell_type": "markdown",
   "metadata": {
    "id": "7JBJY3YU7M2C"
   },
   "source": [
    "##Moment of Truth\n",
    "\n",
    "Time to check, if your Program actually works!\n",
    "\n",
    "Plot the data you collected in various ways (Profits, PercentageProfits etc.) and see if what you did worked!\n",
    "\n",
    "Feel free to use whichever one of Matplotlib or Seaborn you want to.\n",
    "\n",
    "Feel free to copy-paste your code from the previous assignment!"
   ]
  },
  {
   "cell_type": "code",
   "execution_count": null,
   "metadata": {
    "id": "lPQny8RK7tmN"
   },
   "outputs": [],
   "source": [
    "def VizualizeData(NetWorthAfterEachTrade):\n",
    "\n",
    "\n",
    "        plt.plot()\n",
    "\n",
    "\n",
    "\n",
    "\n",
    "\n",
    "  "
   ]
  },
  {
   "cell_type": "markdown",
   "metadata": {
    "id": "lsAUyiuk9r6v"
   },
   "source": [
    "You may use this cell to write about your results/performance of the model!"
   ]
  },
  {
   "cell_type": "code",
   "execution_count": null,
   "metadata": {},
   "outputs": [],
   "source": []
  },
  {
   "cell_type": "code",
   "execution_count": null,
   "metadata": {},
   "outputs": [],
   "source": []
  },
  {
   "cell_type": "code",
   "execution_count": null,
   "metadata": {},
   "outputs": [],
   "source": []
  },
  {
   "cell_type": "code",
   "execution_count": 22,
   "metadata": {},
   "outputs": [],
   "source": [
    "Data=GetData('DATA.csv')"
   ]
  },
  {
   "cell_type": "code",
   "execution_count": 23,
   "metadata": {},
   "outputs": [],
   "source": [
    "a,b=PartitionData(Data)"
   ]
  },
  {
   "cell_type": "code",
   "execution_count": 31,
   "metadata": {},
   "outputs": [
    {
     "data": {
      "text/plain": [
       "(       datadate   tic       adjcp\n",
       " 17130  20110408  AAPL   47.865714\n",
       " 17131  20110408   AXP   46.280000\n",
       " 17132  20110408    BA   73.470000\n",
       " 17133  20110408   CAT  109.820000\n",
       " 17134  20110408  CSCO   17.650000\n",
       " 17135  20110408   CVX  109.660000\n",
       " 17136  20110408    DD  115.571557\n",
       " 17137  20110408   DIS   41.760000\n",
       " 17138  20110408    GS  160.960000\n",
       " 17139  20110408    HD   37.460000\n",
       " 17140  20110408   IBM  164.050000\n",
       " 17141  20110408  INTC   20.020000\n",
       " 17142  20110408   JNJ   59.460000\n",
       " 17143  20110408   JPM   46.840000\n",
       " 17144  20110408    KO   33.635000\n",
       " 17145  20110408   MCD   76.040000\n",
       " 17146  20110408   MMM   93.220000\n",
       " 17147  20110408   MRK   33.670000\n",
       " 17148  20110408  MSFT   26.070000\n",
       " 17149  20110408   NKE   19.347500\n",
       " 17150  20110408   PFE   20.460000\n",
       " 17151  20110408    PG   61.900000\n",
       " 17152  20110408   RTX   84.810000\n",
       " 17153  20110408   TRV   59.580000\n",
       " 17154  20110408   UNH   44.380000\n",
       " 17155  20110408     V   19.180000\n",
       " 17156  20110408    VZ   37.720000\n",
       " 17157  20110408   WBA   41.010000\n",
       " 17158  20110408   WMT   52.540000\n",
       " 17159  20110408   XOM   85.950000,\n",
       "        datadate   tic       adjcp\n",
       " 15630  20110127  AAPL   49.030000\n",
       " 15631  20110127   AXP   44.540000\n",
       " 15632  20110127    BA   70.560000\n",
       " 15633  20110127   CAT   96.630000\n",
       " 15634  20110127  CSCO   21.440000\n",
       " 15635  20110127   CVX   94.750000\n",
       " 15636  20110127    DD  106.720672\n",
       " 15637  20110127   DIS   39.460000\n",
       " 15638  20110127    GS  164.030000\n",
       " 15639  20110127    HD   37.980000\n",
       " 15640  20110127   IBM  161.070000\n",
       " 15641  20110127  INTC   21.750000\n",
       " 15642  20110127   JNJ   60.680000\n",
       " 15643  20110127   JPM   45.100000\n",
       " 15644  20110127    KO   31.350000\n",
       " 15645  20110127   MCD   74.350000\n",
       " 15646  20110127   MMM   89.190000\n",
       " 15647  20110127   MRK   33.250000\n",
       " 15648  20110127  MSFT   28.870000\n",
       " 15649  20110127   NKE   20.692500\n",
       " 15650  20110127   PFE   18.480000\n",
       " 15651  20110127    PG   64.180000\n",
       " 15652  20110127   RTX   82.590000\n",
       " 15653  20110127   TRV   56.630000\n",
       " 15654  20110127   UNH   42.290000\n",
       " 15655  20110127     V   17.650000\n",
       " 15656  20110127    VZ   36.490000\n",
       " 15657  20110127   WBA   41.070000\n",
       " 15658  20110127   WMT   57.570000\n",
       " 15659  20110127   XOM   79.880000)"
      ]
     },
     "execution_count": 31,
     "metadata": {},
     "output_type": "execute_result"
    }
   ],
   "source": [
    "a[571],a[521]"
   ]
  },
  {
   "cell_type": "code",
   "execution_count": 44,
   "metadata": {},
   "outputs": [
    {
     "data": {
      "text/plain": [
       "array([ 47.86571429,  46.28      ,  73.47      , 109.82      ,\n",
       "        17.65      , 109.66      , 115.57155716,  41.76      ,\n",
       "       160.96      ,  37.46      , 164.05      ,  20.02      ,\n",
       "        59.46      ,  46.84      ,  33.635     ,  76.04      ,\n",
       "        93.22      ,  33.67      ,  26.07      ,  19.3475    ,\n",
       "        20.46      ,  61.9       ,  84.81      ,  59.58      ,\n",
       "        44.38      ,  19.18      ,  37.72      ,  41.01      ,\n",
       "        52.54      ,  85.95      ])"
      ]
     },
     "execution_count": 44,
     "metadata": {},
     "output_type": "execute_result"
    }
   ],
   "source": [
    "np.array(a[571].adjcp)"
   ]
  },
  {
   "cell_type": "code",
   "execution_count": 37,
   "metadata": {},
   "outputs": [
    {
     "data": {
      "text/plain": [
       "25"
      ]
     },
     "execution_count": 37,
     "metadata": {},
     "output_type": "execute_result"
    }
   ],
   "source": [
    "Switch(11,25,571,a)"
   ]
  },
  {
   "cell_type": "code",
   "execution_count": 41,
   "metadata": {},
   "outputs": [],
   "source": [
    "p=np.array([1,2,3,4,5,6])\n",
    "np.corrcoef?"
   ]
  },
  {
   "cell_type": "code",
   "execution_count": null,
   "metadata": {},
   "outputs": [],
   "source": []
  }
 ],
 "metadata": {
  "colab": {
   "collapsed_sections": [],
   "name": "Pairs.ipynb",
   "provenance": []
  },
  "kernelspec": {
   "display_name": "Python 3",
   "language": "python",
   "name": "python3"
  },
  "language_info": {
   "codemirror_mode": {
    "name": "ipython",
    "version": 3
   },
   "file_extension": ".py",
   "mimetype": "text/x-python",
   "name": "python",
   "nbconvert_exporter": "python",
   "pygments_lexer": "ipython3",
   "version": "3.8.5"
  }
 },
 "nbformat": 4,
 "nbformat_minor": 1
}
